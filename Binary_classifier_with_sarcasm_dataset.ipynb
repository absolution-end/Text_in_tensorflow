{
  "nbformat": 4,
  "nbformat_minor": 0,
  "metadata": {
    "colab": {
      "provenance": [],
      "authorship_tag": "ABX9TyPZzuPuZR1SgXLz+xCge1NV",
      "include_colab_link": true
    },
    "kernelspec": {
      "name": "python3",
      "display_name": "Python 3"
    },
    "language_info": {
      "name": "python"
    },
    "vp": {
      "vp_note_display": false,
      "vp_note_width": 0
    }
  },
  "cells": [
    {
      "cell_type": "markdown",
      "metadata": {
        "id": "view-in-github",
        "colab_type": "text"
      },
      "source": [
        "<a href=\"https://colab.research.google.com/github/absolution-end/Text_in_tensorflow/blob/main/Binary_classifier_with_sarcasm_dataset.ipynb\" target=\"_parent\"><img src=\"https://colab.research.google.com/assets/colab-badge.svg\" alt=\"Open In Colab\"/></a>"
      ]
    },
    {
      "cell_type": "markdown",
      "source": [
        "**Json**"
      ],
      "metadata": {
        "id": "JFhdd-NDuS8Q"
      }
    },
    {
      "cell_type": "code",
      "source": [
        "import json\n",
        "import io\n",
        "import numpy as np\n",
        "import matplotlib.pyplot as plt\n",
        "import tensorflow as tf"
      ],
      "metadata": {
        "id": "ezKsCF8evEWL"
      },
      "execution_count": 1,
      "outputs": []
    },
    {
      "cell_type": "markdown",
      "source": [
        "\n",
        "Process the data"
      ],
      "metadata": {
        "id": "cRl3J4ABvVTq"
      }
    },
    {
      "cell_type": "code",
      "source": [
        "# Download the dataset\n",
        "!wget https://storage.googleapis.com/tensorflow-1-public/course3/sarcasm.json"
      ],
      "metadata": {
        "colab": {
          "base_uri": "https://localhost:8080/"
        },
        "id": "H6eYWICg8BAG",
        "outputId": "13111618-c68b-49f5-d202-87ba7fe606af"
      },
      "execution_count": 2,
      "outputs": [
        {
          "output_type": "stream",
          "name": "stdout",
          "text": [
            "--2025-02-28 15:34:40--  https://storage.googleapis.com/tensorflow-1-public/course3/sarcasm.json\n",
            "Resolving storage.googleapis.com (storage.googleapis.com)... 64.233.181.207, 192.178.129.207, 173.194.193.207, ...\n",
            "Connecting to storage.googleapis.com (storage.googleapis.com)|64.233.181.207|:443... connected.\n",
            "HTTP request sent, awaiting response... 200 OK\n",
            "Length: 5643545 (5.4M) [application/json]\n",
            "Saving to: ‘sarcasm.json’\n",
            "\n",
            "sarcasm.json        100%[===================>]   5.38M  --.-KB/s    in 0.07s   \n",
            "\n",
            "2025-02-28 15:34:41 (74.6 MB/s) - ‘sarcasm.json’ saved [5643545/5643545]\n",
            "\n"
          ]
        }
      ]
    },
    {
      "cell_type": "code",
      "source": [
        "# loading the json file\n",
        "with open(\"sarcasm.json\",\"r\") as f:\n",
        "  datastore = json.load(f)\n",
        "\n",
        "sentences =[]\n",
        "labels =[]\n",
        "\n",
        "# collect sentences and labels into list\n",
        "for item in datastore:\n",
        "  sentences.append(item['headline'])\n",
        "  labels.append(item['is_sarcastic'])\n",
        "\n",
        "# you can use pandas if not classic style\n",
        "import pandas as pd\n",
        "df = pd.read_json(\"sarcasm.json\")"
      ],
      "metadata": {
        "id": "uBVvt3sf8a9G"
      },
      "execution_count": 3,
      "outputs": []
    },
    {
      "cell_type": "markdown",
      "source": [
        "Parameters"
      ],
      "metadata": {
        "id": "UBKd94E492M0"
      }
    },
    {
      "cell_type": "code",
      "source": [
        "TRAINING_SIZE = 20000 # number of examples used to training\n",
        "VOCAB_SIZE = 10000\n",
        "MAX_LENGTH = 32\n",
        "EMBEDDING_DIM = 16\n",
        "EPOCH = 10"
      ],
      "metadata": {
        "id": "HjNvYRTl-Hvy"
      },
      "execution_count": 4,
      "outputs": []
    },
    {
      "cell_type": "markdown",
      "source": [
        "Split the dataset"
      ],
      "metadata": {
        "id": "IxDDQrIF_ARD"
      }
    },
    {
      "cell_type": "code",
      "source": [
        "# split the Sentences\n",
        "training_sentences = sentences[0:TRAINING_SIZE]\n",
        "testing_sentences = sentences[TRAINING_SIZE:]\n",
        "\n",
        "# split the lable\n",
        "training_labels = labels[0:TRAINING_SIZE]\n",
        "testing_labels = labels[TRAINING_SIZE:]"
      ],
      "metadata": {
        "id": "blJdw6hH_DgS"
      },
      "execution_count": 5,
      "outputs": []
    },
    {
      "cell_type": "markdown",
      "source": [
        "Processing the training and test sets"
      ],
      "metadata": {
        "id": "_TRLQewg_gjw"
      }
    },
    {
      "cell_type": "code",
      "source": [
        "# Instantiate the vectorization layer\n",
        "vectorize_layer = tf.keras.layers.TextVectorization(max_tokens=VOCAB_SIZE,\n",
        "                                                    output_sequence_length=MAX_LENGTH,\n",
        "                                                    )\n",
        "vectorize_layer.adapt(training_sentences)"
      ],
      "metadata": {
        "id": "7wPvgOGAAj9W"
      },
      "execution_count": 6,
      "outputs": []
    },
    {
      "cell_type": "code",
      "source": [
        "# applying vectorization layer to both training and testing\n",
        "training_sequences = vectorize_layer(training_sentences)\n",
        "testing_sequences = vectorize_layer(testing_sentences)"
      ],
      "metadata": {
        "id": "duxQzCwOA_SC"
      },
      "execution_count": 10,
      "outputs": []
    },
    {
      "cell_type": "code",
      "source": [
        "# vectorized data to be created\n",
        "training_dataset_vectorize = tf.data.Dataset.from_tensor_slices((training_sequences,training_labels))\n",
        "testing_dataset_vectorize = tf.data.Dataset.from_tensor_slices((testing_sequences,testing_labels))"
      ],
      "metadata": {
        "id": "Q-n5otgBMe5C"
      },
      "execution_count": 11,
      "outputs": []
    },
    {
      "cell_type": "code",
      "source": [
        "for example in training_dataset_vectorize.take(2):\n",
        "  print(example)"
      ],
      "metadata": {
        "colab": {
          "base_uri": "https://localhost:8080/"
        },
        "id": "oh6EUzxrN-n1",
        "outputId": "000aaa0e-73f6-44bd-fef7-d0c2ffcabe16"
      },
      "execution_count": 12,
      "outputs": [
        {
          "output_type": "stream",
          "name": "stdout",
          "text": [
            "(<tf.Tensor: shape=(32,), dtype=int64, numpy=\n",
            "array([ 319,    1,  943, 4079, 2366,   47,  366,   94, 2026,    6, 2653,\n",
            "       9470,    0,    0,    0,    0,    0,    0,    0,    0,    0,    0,\n",
            "          0,    0,    0,    0,    0,    0,    0,    0,    0,    0])>, <tf.Tensor: shape=(), dtype=int32, numpy=0>)\n",
            "(<tf.Tensor: shape=(32,), dtype=int64, numpy=\n",
            "array([   4, 7185, 3128, 3305,   28,    2,  152,    1,  358, 2902,    6,\n",
            "        236,    9,  844,    0,    0,    0,    0,    0,    0,    0,    0,\n",
            "          0,    0,    0,    0,    0,    0,    0,    0,    0,    0])>, <tf.Tensor: shape=(), dtype=int32, numpy=0>)\n"
          ]
        }
      ]
    },
    {
      "cell_type": "code",
      "source": [
        "SHUFFLE_BUFFER_SIZE = 10000\n",
        "PREFETCH_BUFFER_SIZE = tf.data.AUTOTUNE\n",
        "BATCH_SIZE = 32\n",
        "\n",
        "# optimize the dataset\n",
        "train_dataset_final = (training_dataset_vectorize\n",
        "                       .cache()\n",
        "                       .shuffle(SHUFFLE_BUFFER_SIZE)\n",
        "                       .prefetch(PREFETCH_BUFFER_SIZE)\n",
        "                       .batch(BATCH_SIZE)\n",
        "                       )\n",
        "test_dataset_final = (testing_dataset_vectorize\n",
        "                      .cache()\n",
        "                      .prefetch(PREFETCH_BUFFER_SIZE)\n",
        "                      .batch(BATCH_SIZE))"
      ],
      "metadata": {
        "id": "Wn9GYmOGOKES"
      },
      "execution_count": 14,
      "outputs": []
    },
    {
      "cell_type": "markdown",
      "source": [
        "Build and compile model"
      ],
      "metadata": {
        "id": "dZ_V5rtkPRm0"
      }
    },
    {
      "cell_type": "code",
      "source": [
        "# Build the model\n",
        "model = tf.keras.Sequential([\n",
        "    tf.keras.layers.Embedding(VOCAB_SIZE,EMBEDDING_DIM),\n",
        "    tf.keras.layers.GlobalAveragePooling1D(),\n",
        "    tf.keras.layers.Dense(24,activation='relu'),\n",
        "    tf.keras.layers.Dense(1,activation='sigmoid')\n",
        "])"
      ],
      "metadata": {
        "id": "srHQT32NQxJZ"
      },
      "execution_count": 16,
      "outputs": []
    },
    {
      "cell_type": "code",
      "source": [
        "model.compile(loss='binary_crossentropy',\n",
        "              optimizer='adam',\n",
        "              metrics=['accuracy'])"
      ],
      "metadata": {
        "id": "ArGFWcfZSYgb"
      },
      "execution_count": 22,
      "outputs": []
    },
    {
      "cell_type": "code",
      "source": [
        "# final to train the model\n",
        "EPOCH = 10\n",
        "hist = model.fit(train_dataset_final,\n",
        "                 epochs=EPOCH,\n",
        "                 validation_data=test_dataset_final,\n",
        "                 verbose=1)"
      ],
      "metadata": {
        "colab": {
          "base_uri": "https://localhost:8080/"
        },
        "id": "owm1DQR6Sbqr",
        "outputId": "672f1074-46d9-453e-fd6f-6c4696f4125e"
      },
      "execution_count": 26,
      "outputs": [
        {
          "output_type": "stream",
          "name": "stdout",
          "text": [
            "Epoch 1/10\n",
            "\u001b[1m625/625\u001b[0m \u001b[32m━━━━━━━━━━━━━━━━━━━━\u001b[0m\u001b[37m\u001b[0m \u001b[1m2s\u001b[0m 4ms/step - accuracy: 0.9892 - loss: 0.0372 - val_accuracy: 0.8152 - val_loss: 0.8781\n",
            "Epoch 2/10\n",
            "\u001b[1m625/625\u001b[0m \u001b[32m━━━━━━━━━━━━━━━━━━━━\u001b[0m\u001b[37m\u001b[0m \u001b[1m2s\u001b[0m 4ms/step - accuracy: 0.9887 - loss: 0.0379 - val_accuracy: 0.8159 - val_loss: 0.8982\n",
            "Epoch 3/10\n",
            "\u001b[1m625/625\u001b[0m \u001b[32m━━━━━━━━━━━━━━━━━━━━\u001b[0m\u001b[37m\u001b[0m \u001b[1m2s\u001b[0m 4ms/step - accuracy: 0.9866 - loss: 0.0430 - val_accuracy: 0.8138 - val_loss: 0.9532\n",
            "Epoch 4/10\n",
            "\u001b[1m625/625\u001b[0m \u001b[32m━━━━━━━━━━━━━━━━━━━━\u001b[0m\u001b[37m\u001b[0m \u001b[1m3s\u001b[0m 5ms/step - accuracy: 0.9886 - loss: 0.0350 - val_accuracy: 0.8150 - val_loss: 0.9672\n",
            "Epoch 5/10\n",
            "\u001b[1m625/625\u001b[0m \u001b[32m━━━━━━━━━━━━━━━━━━━━\u001b[0m\u001b[37m\u001b[0m \u001b[1m4s\u001b[0m 4ms/step - accuracy: 0.9910 - loss: 0.0304 - val_accuracy: 0.8100 - val_loss: 1.0270\n",
            "Epoch 6/10\n",
            "\u001b[1m625/625\u001b[0m \u001b[32m━━━━━━━━━━━━━━━━━━━━\u001b[0m\u001b[37m\u001b[0m \u001b[1m2s\u001b[0m 4ms/step - accuracy: 0.9876 - loss: 0.0362 - val_accuracy: 0.8034 - val_loss: 1.0534\n",
            "Epoch 7/10\n",
            "\u001b[1m625/625\u001b[0m \u001b[32m━━━━━━━━━━━━━━━━━━━━\u001b[0m\u001b[37m\u001b[0m \u001b[1m2s\u001b[0m 4ms/step - accuracy: 0.9903 - loss: 0.0317 - val_accuracy: 0.8107 - val_loss: 1.0843\n",
            "Epoch 8/10\n",
            "\u001b[1m625/625\u001b[0m \u001b[32m━━━━━━━━━━━━━━━━━━━━\u001b[0m\u001b[37m\u001b[0m \u001b[1m4s\u001b[0m 6ms/step - accuracy: 0.9884 - loss: 0.0343 - val_accuracy: 0.8129 - val_loss: 1.0743\n",
            "Epoch 9/10\n",
            "\u001b[1m625/625\u001b[0m \u001b[32m━━━━━━━━━━━━━━━━━━━━\u001b[0m\u001b[37m\u001b[0m \u001b[1m4s\u001b[0m 4ms/step - accuracy: 0.9895 - loss: 0.0334 - val_accuracy: 0.8041 - val_loss: 1.1742\n",
            "Epoch 10/10\n",
            "\u001b[1m625/625\u001b[0m \u001b[32m━━━━━━━━━━━━━━━━━━━━\u001b[0m\u001b[37m\u001b[0m \u001b[1m3s\u001b[0m 5ms/step - accuracy: 0.9912 - loss: 0.0268 - val_accuracy: 0.8097 - val_loss: 1.1405\n"
          ]
        }
      ]
    },
    {
      "cell_type": "code",
      "source": [
        "def plot_graph(history, string):\n",
        "  plt.plot(history.history[string])\n",
        "  plt.plot(history.history['val_'+string])\n",
        "  plt.xlabel(\"Epochs\")\n",
        "  plt.ylabel(string)\n",
        "  plt.legend([string, \"val_\"+string])\n",
        "  plt.show()\n",
        "\n",
        "plot_graph(hist, \"accuracy\")\n",
        "plot_graph(hist, \"loss\")"
      ],
      "metadata": {
        "colab": {
          "base_uri": "https://localhost:8080/",
          "height": 887
        },
        "id": "RF5deQ1LUD92",
        "outputId": "bb5563d7-d105-4deb-8715-994e81ddcb7a"
      },
      "execution_count": 33,
      "outputs": [
        {
          "output_type": "display_data",
          "data": {
            "text/plain": [
              "<Figure size 640x480 with 1 Axes>"
            ],
            "image/png": "[encoded data removed]"
          },
          "metadata": {}
        },
        {
          "output_type": "display_data",
          "data": {
            "text/plain": [
              "<Figure size 640x480 with 1 Axes>"
            ],
            "image/png": "[encoded data removed]"
          },
          "metadata": {}
        }
      ]
    },
    {
      "cell_type": "code",
      "source": [],
      "metadata": {
        "id": "p_sHImAFWil5"
      },
      "execution_count": null,
      "outputs": []
    }
  ]
}